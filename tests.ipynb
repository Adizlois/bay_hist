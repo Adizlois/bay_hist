{
 "cells": [
  {
   "cell_type": "code",
   "execution_count": 8,
   "id": "a0fe24f3-2451-47cd-88f9-988be9e9d0df",
   "metadata": {},
   "outputs": [],
   "source": [
    "##\n",
    "from bayesian_hm import *\n",
    "import time\n",
    "#plt.rcParams.update({'font.size': 22,'figure.figsize':(20,12)})\n",
    "##"
   ]
  },
  {
   "cell_type": "code",
   "execution_count": 9,
   "id": "1a4976ce-371b-4c19-a28c-fd4cc6eb87b4",
   "metadata": {},
   "outputs": [],
   "source": [
    "import numpy as np\n",
    "x=np.load(\"wave_1_x.npy\",allow_pickle='TRUE').item()[\"x\"]\n",
    "prev=np.load(\"wave_1_runs.npy\",allow_pickle='TRUE').item()\n",
    "allres=prev[\"runs\"]"
   ]
  },
  {
   "cell_type": "code",
   "execution_count": 10,
   "id": "a064ec8a-56e8-4e98-b848-6b590b58edb2",
   "metadata": {},
   "outputs": [],
   "source": [
    "import config\n",
    "config.realdatadir=\"/home/alf/Downloads/\"\n",
    "config.agegroups=np.arange(0,90,10)\n",
    "config.inout=\"/storage/ABM/ibm-seed-and-sus/1-main-ABM/In_out\""
   ]
  },
  {
   "cell_type": "code",
   "execution_count": 11,
   "id": "65900516-8c03-4f06-acb2-b2c54635a237",
   "metadata": {},
   "outputs": [],
   "source": [
    "input_names=[\"b\",\"new_beta\",\"om_inc\",\"trans_rate\",\"om_seed\",\"sus1\",\"sus2\",\"sus3\",\n",
    "            \"sus4\",\"sus5\",\"sus6\",\n",
    "            \"sus7\",\"sus8\",\"sus9\"] \n",
    "dois_hosps_cal=[20,30,40,60,75,90,110,130,150,170,194]\n",
    "\n",
    "params0=[\"hosp1\"]\n",
    "params1=[\"hosp2\"]\n",
    "#params1=[\"omicron\"]\n",
    "params2=[\"hosp3\"]\n",
    "params3=[\"hosp4\"]\n",
    "params4=[\"hosp5\"]\n",
    "params5=[\"hosp6\"]\n",
    "params6=[\"hosp7\"]\n",
    "params7=[\"hosp8\"]\n",
    "params8=[\"hosp9\"]\n",
    "\n",
    "\n",
    "\n"
   ]
  },
  {
   "cell_type": "code",
   "execution_count": 12,
   "id": "0455370d-5b0d-4572-958b-d93d5b4dfab7",
   "metadata": {},
   "outputs": [
    {
     "data": {
      "text/plain": [
       "array([0.14285714, 0.14285714, 0.42857143, 0.14285714, 0.57142857,\n",
       "       0.57142857, 1.57142857, 3.57142857, 5.85714286, 3.        ])"
      ]
     },
     "execution_count": 12,
     "metadata": {},
     "output_type": "execute_result"
    }
   ],
   "source": [
    "import matplotlib.pyplot as plt\n",
    "get_real_data(dois_hosps_cal,w=7,byage=True)[:10]"
   ]
  },
  {
   "cell_type": "code",
   "execution_count": null,
   "id": "a93fbc8d-dd5a-4a1e-baa3-97050da4eef9",
   "metadata": {},
   "outputs": [],
   "source": []
  }
 ],
 "metadata": {
  "kernelspec": {
   "display_name": "Python 3 (ipykernel)",
   "language": "python",
   "name": "python3"
  },
  "language_info": {
   "codemirror_mode": {
    "name": "ipython",
    "version": 3
   },
   "file_extension": ".py",
   "mimetype": "text/x-python",
   "name": "python",
   "nbconvert_exporter": "python",
   "pygments_lexer": "ipython3",
   "version": "3.8.13"
  }
 },
 "nbformat": 4,
 "nbformat_minor": 5
}
